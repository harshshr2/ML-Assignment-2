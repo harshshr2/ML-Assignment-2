{
 "cells": [
  {
   "cell_type": "code",
   "execution_count": 1,
   "metadata": {},
   "outputs": [],
   "source": [
    "# Credit worthiness\n",
    "import numpy as np\n",
    "import pandas as pd\n",
    "from numpy import savetxt\n",
    "import matplotlib\n",
    "import matplotlib.pyplot as plt\n",
    "from sklearn.linear_model import LogisticRegression\n",
    "from sklearn.model_selection import train_test_split\n",
    "train_data=pd.read_csv(\"/data/training/credit_train.csv\")\n",
    "x=train_data.drop(\"Class\",axis=1)\n",
    "y=train_data[\"Class\"]\n",
    "log=LogisticRegression()\n",
    "log=log.fit(x,y)\n",
    "test_data=pd.read_csv(\"/data/test/credit_test.csv\")\n",
    "id_=test_data[\"id\"]\n",
    "x_test=test_data.drop(\"id\",axis=1)\n",
    "y_pred=log.predict(x_test)\n",
    "y_pred=pd.DataFrame(y_pred)\n",
    "y_pred.columns=[\"Class\"]\n",
    "y_pred=pd.concat([id_,y_pred],axis=1)\n",
    "y_pred.to_csv(\"/code/credit_prediction.csv\")"
   ]
  },
  {
   "cell_type": "code",
   "execution_count": null,
   "metadata": {},
   "outputs": [],
   "source": [
    "# Bank Loan Status (K nearest neighbor)\n",
    "import numpy as np\n",
    "import pandas as pd\n",
    "from numpy import savetxt\n",
    "import matplotlib\n",
    "import matplotlib.pyplot as plt\n",
    "from sklearn.metrics import accuracy_score , confusion_matrix\n",
    "from sklearn.neighbors import KNeighborsClassifier\n",
    "from sklearn.model_selection import train_test_split\n",
    "import seaborn as sea\n",
    "M=KNeighborsClassifier()\n",
    "x_data=pd.read_csv(\"/data/training/P4.csv\")\n",
    "y_data=pd.read_csv(\"/data/training/P4y.csv\")\n",
    "x=x_data\n",
    "y=y_data.values.ravel()\n",
    "x_train,x_test,y_train,y_test=train_test_split(x,y,test_size=0.2,random_state=0)\n",
    "lists=[i for i in range(1,20)]\n",
    "accuracy=[]\n",
    "for j in lists:\n",
    "    knn=KNeighborsClassifier(n_neighbors=j)\n",
    "    knn.fit(x_train,y_train)\n",
    "    prediction=knn.predict(x_test)\n",
    "    accuracy.append(np.mean(accuracy_score(y_test,prediction)))\n",
    "best=np.array([max(accuracy),7])\n",
    "np.savetxt(\"/code/P4_eval.csv\",best)"
   ]
  },
  {
   "cell_type": "code",
   "execution_count": null,
   "metadata": {},
   "outputs": [],
   "source": [
    "# Eating Habits Predictor ( Decision Tree)\n",
    "from numpy import savetxt\n",
    "import pandas as pd\n",
    "from sklearn.tree import DecisionTreeClassifier\n",
    "import matplotlib.pyplot as plt\n",
    "train_data=pd.read_csv(\"/data/training/P7.csv\")\n",
    "train_data[\"Temperature\"]=train_data[\"Temperature\"].replace({\"Hot\":0,\"Cold\":1})\n",
    "train_data[\"Taste\"]=train_data[\"Taste\"].replace({\"Salty\":0,\"Spicy\":1,\"Sweet\":3})\n",
    "train_data[\"Texture\"]=train_data[\"Texture\"].replace({\"Soft\":0,\"Hard\":1})\n",
    "train_data[\"Eat\"]=train_data[\"Eat\"].replace({\"No\":0,\"Yes\":1})\n",
    "x=train_data.drop(\"Eat\",axis=1)\n",
    "y=train_data[\"Eat\"]\n",
    "dtree=DecisionTreeClassifier(criterion=\"entropy\")\n",
    "dtree=dtree.fit(x,y)\n",
    "X_test1=[[0,1,1],[2,0,1]]\n",
    "X_test2=[[2,0,0],[1,0,1]]\n",
    "y_pred1=dtree.predict(X_test1)\n",
    "y_pred2=dtree.predict(X_test2)\n",
    "savetxt(\"/code/P7_eval1.csv\",y_pred1)\n",
    "savetxt(\"/code/P7_eval2.csv\",y_pred2)"
   ]
  }
 ],
 "metadata": {
  "kernelspec": {
   "display_name": "Python 3",
   "language": "python",
   "name": "python3"
  },
  "language_info": {
   "codemirror_mode": {
    "name": "ipython",
    "version": 3
   },
   "file_extension": ".py",
   "mimetype": "text/x-python",
   "name": "python",
   "nbconvert_exporter": "python",
   "pygments_lexer": "ipython3",
   "version": "3.7.3"
  }
 },
 "nbformat": 4,
 "nbformat_minor": 2
}
